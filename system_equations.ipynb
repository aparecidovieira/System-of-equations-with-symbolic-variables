{
 "cells": [
  {
   "cell_type": "code",
   "execution_count": 3,
   "metadata": {
    "collapsed": true
   },
   "outputs": [],
   "source": [
    "import sympy as sp\n",
    "import numpy as np"
   ]
  },
  {
   "cell_type": "code",
   "execution_count": 4,
   "metadata": {
    "collapsed": true
   },
   "outputs": [],
   "source": [
    "from sympy import symbols\n",
    "\n",
    "a, b, c, d, x = symbols('a b c d x')\n",
    "\n",
    "x0 = 0\n",
    "x1 = 1\n",
    "x2 = -1\n",
    "x3 = -2\n",
    "\n",
    "y = a * np.power(x, 3) + b*np.power(x, 2) + c * (x) + d\n",
    "\n",
    "y0 = a * np.power(x0, 3) + b*np.power(x0, 2) + c * (x0) + d\n",
    "y1 = a * np.power(x1, 3) + b * np.power(x1, 2) + c * x1 + d\n",
    "y2 = a * np.power(x2, 3) + b*np.power(x2, 2) + c * (x2) + d\n",
    "y3 = a * np.power(x3, 3) + b*np.power(x3, 2) + c * (x3) + d\n",
    "\n",
    "# d = -a * x^3 - b* x^2 - c*x\n",
    "#d =  -a * np.power(x0, 3) - b*np.power(x0, 2) - c * (x0)\n",
    "#sol = sp.solveset(y - 1,x)\n",
    "\n",
    "y0_sol = 0\n",
    "y1_sol = 1\n",
    "y2_sol = 1\n",
    "y3_sol = y0_sol - y1_sol\n",
    "\n",
    "#sol = sp.nonlinsolve([y0 - 1, y1 - 1], [a, b, c])\n",
    "\n",
    "# f(n) = f(n - 1) + f(n - 2)\n"
   ]
  },
  {
   "cell_type": "code",
   "execution_count": 5,
   "metadata": {},
   "outputs": [
    {
     "name": "stdout",
     "output_type": "stream",
     "text": [
      "1 equation : a + b + c + d = 1\n",
      "2 equation : -a + b - c + d = 1\n",
      "3 equation : -8*a + 4*b - 2*c + d = -1\n"
     ]
    }
   ],
   "source": [
    "print ('1 equation :', y1, '=', y1_sol)\n",
    "print ('2 equation :', y2, '=', y2_sol)\n",
    "print ('3 equation :', y3, '=', y3_sol)\n",
    "\n",
    "#sp.solve((y, y), (1, 1))"
   ]
  },
  {
   "cell_type": "code",
   "execution_count": 6,
   "metadata": {},
   "outputs": [
    {
     "data": {
      "text/plain": [
       "[d, a + b + c + d - 1, -a + b - c + d - 1, -8*a + 4*b - 2*c + d + 1]"
      ]
     },
     "execution_count": 6,
     "metadata": {},
     "output_type": "execute_result"
    }
   ],
   "source": [
    "system = [y0 - y0_sol, y1 - y1_sol, y2 - y2_sol, y3 - y3_sol]\n",
    "vars = [a, b, c, d]\n",
    "sol = sp.nonlinsolve(system, vars)\n",
    "sol_array = np.asarray(sol)\n",
    "system"
   ]
  },
  {
   "cell_type": "code",
   "execution_count": 7,
   "metadata": {
    "collapsed": true
   },
   "outputs": [],
   "source": [
    "sol2 = sp.solve(system, vars)"
   ]
  },
  {
   "cell_type": "code",
   "execution_count": 8,
   "metadata": {
    "collapsed": true
   },
   "outputs": [],
   "source": [
    "sol2_array = np.asarray(sol2)"
   ]
  },
  {
   "cell_type": "code",
   "execution_count": 9,
   "metadata": {
    "collapsed": true
   },
   "outputs": [],
   "source": [
    "def sol_equation(x, a, b, c, d):\n",
    "    y = a * np.power(x, 3) + b*np.power(x, 2) + c * (x) + d\n",
    "    return y"
   ]
  },
  {
   "cell_type": "code",
   "execution_count": 10,
   "metadata": {},
   "outputs": [
    {
     "name": "stdout",
     "output_type": "stream",
     "text": [
      "For x = 8181\n",
      "0.833333333333333*x**3 + x**2 - 0.833333333333333*x : 456353750061.0\n"
     ]
    }
   ],
   "source": [
    "a = 5/6\n",
    "b = 1\n",
    "c = -a\n",
    "d = 0\n",
    "\n",
    "#y_ = a * np.power(x, 3) + b*np.power(x, 2) + c * (x) + d\n",
    "y_ = a * np.power(x, 3) + b*np.power(x, 2) + c * (x) + d\n",
    "#print (y)\n",
    "y_sol = sol_equation(8181, a, b, c, d)\n",
    "\n",
    "print('For x = 8181')\n",
    "print(y_, ':',  y_sol)\n",
    "\n"
   ]
  },
  {
   "cell_type": "code",
   "execution_count": null,
   "metadata": {
    "collapsed": true
   },
   "outputs": [],
   "source": []
  },
  {
   "cell_type": "code",
   "execution_count": 11,
   "metadata": {
    "collapsed": true
   },
   "outputs": [],
   "source": [
    "a = np.array([[1, 1, 1], [-1, 1, -1], [-8, 4, -2]])\n",
    "b = np.array([1, 1, -1])\n",
    "x = np.linalg.solve(a, b)\n",
    "a  = x[0]"
   ]
  },
  {
   "cell_type": "code",
   "execution_count": 12,
   "metadata": {
    "collapsed": true
   },
   "outputs": [],
   "source": [
    "from sympy import symbols\n",
    "\n",
    "a, b, c, d, e, f, x = symbols('a b c d e f x')\n",
    "\n",
    "x0 = 0\n",
    "x1 = 1\n",
    "x2 = -1\n",
    "x3 = -2\n",
    "x4 = -3\n",
    "x5 = -4\n",
    "\n",
    "y = a * np.power(x, 5) + b*np.power(x, 4) + c * np.power(x, 3) + d * np.power(x, 2) + e * np.power(x, 1) + f * np.power(x, 0)\n",
    "\n",
    "y0 = a * np.power(x0, 5) + b*np.power(x0, 4) + c * np.power(x0, 3) + d * np.power(x0, 2) + e * np.power(x0, 1) + f * np.power(x0, 0)\n",
    "y1 = a * np.power(x1, 5) + b*np.power(x1, 4) + c * np.power(x1, 3) + d * np.power(x1, 2) + e * np.power(x1, 1) + f * np.power(x1, 0)\n",
    "y2 = a * np.power(x2, 5) + b*np.power(x2, 4) + c * np.power(x2, 3) + d * np.power(x2, 2) + e * np.power(x2, 1) + f * np.power(x2, 0)\n",
    "y3 = a * np.power(x3, 5) + b*np.power(x3, 4) + c * np.power(x3, 3) + d * np.power(x3, 2) + e * np.power(x3, 1) + f * np.power(x3, 0)\n",
    "y4 = a * np.power(x4, 5) + b*np.power(x4, 4) + c * np.power(x4, 3) + d * np.power(x4, 2) + e * np.power(x4, 1) + f * np.power(x4, 0)\n",
    "y5 = a * np.power(x5, 5) + b*np.power(x5, 4) + c * np.power(x5, 3) + d * np.power(x5, 2) + e * np.power(x5, 1) + f * np.power(x5, 0)\n",
    "# d = -a * x^3 - b* x^2 - c*x\n",
    "#d =  -a * np.power(x0, 3) - b*np.power(x0, 2) - c * (x0)\n",
    "#sol = sp.solveset(y - 1,x)\n",
    "\n",
    "y0_sol = 0\n",
    "y1_sol = 1\n",
    "y2_sol = 1\n",
    "y3_sol = y0_sol - y1_sol\n",
    "y4_sol = 2\n",
    "y5_sol = -3\n",
    "#sol = sp.nonlinsolve([y0 - 1, y1 - 1], [a, b, c])\n",
    "\n",
    "# f(n) = f(n - 1) + f(n - 2)\n"
   ]
  },
  {
   "cell_type": "code",
   "execution_count": 13,
   "metadata": {},
   "outputs": [
    {
     "name": "stdout",
     "output_type": "stream",
     "text": [
      "1 equation : a + b + c + d + e + f = 1\n",
      "2 equation : -a + b - c + d - e + f = 1\n",
      "3 equation : -32*a + 16*b - 8*c + 4*d - 2*e + f = -1\n",
      "2 equation : -243*a + 81*b - 27*c + 9*d - 3*e + f = 2\n",
      "3 equation : -1024*a + 256*b - 64*c + 16*d - 4*e + f = -3\n"
     ]
    }
   ],
   "source": [
    "print ('1 equation :', y1, '=', y1_sol)\n",
    "print ('2 equation :', y2, '=', y2_sol)\n",
    "print ('3 equation :', y3, '=', y3_sol)\n",
    "print ('2 equation :', y4, '=', y4_sol)\n",
    "print ('3 equation :', y5, '=', y5_sol)"
   ]
  },
  {
   "cell_type": "code",
   "execution_count": 14,
   "metadata": {},
   "outputs": [
    {
     "data": {
      "text/plain": [
       "array({(17/60, 47/24, 10/3, -23/24, -217/60, 0)}, dtype=object)"
      ]
     },
     "execution_count": 14,
     "metadata": {},
     "output_type": "execute_result"
    }
   ],
   "source": [
    "system = [y0 - y0_sol, y1 - y1_sol, y2 - y2_sol, y3 - y3_sol, y4 - y4_sol, y5 - y5_sol]\n",
    "vars = [a, b, c, d, e, f]\n",
    "sol = sp.nonlinsolve(system, vars)\n",
    "sol_array = np.asarray(sol)\n",
    "sol_array"
   ]
  },
  {
   "cell_type": "code",
   "execution_count": 15,
   "metadata": {
    "collapsed": true
   },
   "outputs": [],
   "source": [
    "def convert_str(string):\n",
    "    chars = [\"{\", \"}\", \"(\",\")\", \"'\", \" \", \"[\", \"]\"]\n",
    "    for i in range(len(chars)):\n",
    "        string = string.replace(chars[i], \"\")\n",
    "    \n",
    "    return string\n",
    "    "
   ]
  },
  {
   "cell_type": "code",
   "execution_count": 16,
   "metadata": {
    "collapsed": true
   },
   "outputs": [],
   "source": [
    "def get_coefficients(n, x_array, y_sol, solution):\n",
    "    \n",
    "    a = n\n",
    "    \n",
    "    while(a < 5):\n",
    "        x, y, k, func = sp.symbols('x y k func')\n",
    "        var_coef = [sp.symbols('coef%d'% i)for i in range(a)]\n",
    "        #transforming coeficients in a string and then array\n",
    "        str_coef = str(var_coef)\n",
    "        str_coef = convert_str(str_coef)\n",
    "        str_coef = np.asarray(str_coef.split(\",\"))\n",
    "        \n",
    "        for i in range(a):\n",
    "            y += var_coef[i] * np.power(x, i)\n",
    "           \n",
    "        #y = y + k\n",
    "        func = y - sp.symbols('y')\n",
    "        #print(y)\n",
    "        num = a\n",
    "        if num < 4:\n",
    "            num = 4\n",
    "            \n",
    "        # y(0), y(1), y(2), y(3)     \n",
    "        y_var = [sp.symbols('y%d'%i) for i in range(num)]\n",
    "        # x0, x1, x2, x3\n",
    "        x_var = [sp.symbols('x%d'%i) for i in range(num)]  \n",
    "        \n",
    "        for i in range(num):\n",
    "            for j in range(a):\n",
    "                y_var[i] += var_coef[j] * np.power(x_array[i], j)\n",
    "    \n",
    "        for i in range(num):\n",
    "            y_var[i] -= sp.symbols('y%d' % i) \n",
    "        \n",
    "        system = [y_var[i] - y_sol[i] for i in range(num)]\n",
    "        \n",
    "        # solving nonlinear equation\n",
    "        vars = [var_coef]\n",
    "        sol = sp.nonlinsolve(system, var_coef)\n",
    "        sol_alt = sp.solve(system, var_coef)\n",
    "        \n",
    "        #transform results into a string\n",
    "        sol_str = str(sol)\n",
    "        flag = 0\n",
    "        \n",
    "        #transforms results into an array\n",
    "        array_ = convert_str(sol_str)\n",
    "        new_array = np.asarray(array_.split(\",\"))\n",
    "\n",
    "   \n",
    "        for i in range(len(new_array)):\n",
    "            element = new_array[i]\n",
    "            #if any single element or result has coeffient on it, system was not solved\n",
    "            for key in str_coef:\n",
    "                target = re.search(key, new_array[i])\n",
    "                if target:\n",
    "                    flag = 1\n",
    "                    break\n",
    "            \n",
    "        if flag == 0 and sol_str != 'EmptySet()':\n",
    "            solution = new_array\n",
    "            return var_coef, func, solution\n",
    "        a += 1\n",
    "\n",
    "    return var_coef, func, solution\n",
    "\n"
   ]
  },
  {
   "cell_type": "code",
   "execution_count": 17,
   "metadata": {},
   "outputs": [
    {
     "name": "stdout",
     "output_type": "stream",
     "text": [
      "solution the equation: coef0 + coef1*x + coef2*x**2 + coef3*x**3\n",
      "the values of coeffients are:  ['0' '-5/6' '1' '5/6']\n"
     ]
    }
   ],
   "source": [
    "\n",
    "import re\n",
    "from fractions import Fraction\n",
    "\n",
    "x_array = [0, 1, -1, -2]\n",
    "y_sol = [0, 1, 1, -1]\n",
    "\n",
    "solution = 'EmptySet()'\n",
    "\n",
    "# It will start testing if a linear equation have a possible solution if not\n",
    "# it will test a quadratic equation and so on\n",
    "\n",
    "coef, func, sol = get_coefficients(1, x_array, y_sol, solution)\n",
    "if str(sol) == 'EmptySet()':\n",
    "    print('No possible solution')\n",
    "else:\n",
    "    print('solution the equation:',func)\n",
    "    print('the values of coeffients are: ', sol)"
   ]
  },
  {
   "cell_type": "code",
   "execution_count": 18,
   "metadata": {
    "collapsed": true
   },
   "outputs": [],
   "source": [
    "def equation_sol(array_sol, n):\n",
    "    l = len(array_sol)\n",
    "    result = 0\n",
    "    for i in range(l):\n",
    "        el = float(Fraction(array_sol[i]))\n",
    "        result += el * np.power(8181, i)\n",
    "    return result"
   ]
  },
  {
   "cell_type": "code",
   "execution_count": 19,
   "metadata": {},
   "outputs": [
    {
     "name": "stdout",
     "output_type": "stream",
     "text": [
      "For n = 8181 equation results in: 456353750061.0\n"
     ]
    }
   ],
   "source": [
    "# find solution for n = 8181\n",
    "n = 8181\n",
    "\n",
    "print('For n = 8181 equation results in:', equation_sol(sol, n))\n"
   ]
  },
  {
   "cell_type": "code",
   "execution_count": 20,
   "metadata": {},
   "outputs": [
    {
     "name": "stdout",
     "output_type": "stream",
     "text": [
      "Yes\n"
     ]
    }
   ],
   "source": [
    "s = 'coef0 + 1'\n",
    "s1 = 'coef0'\n",
    "import re\n",
    "m = re.search(s1, s)\n",
    "if m:\n",
    "    print('Yes')"
   ]
  },
  {
   "cell_type": "code",
   "execution_count": null,
   "metadata": {
    "collapsed": true
   },
   "outputs": [],
   "source": []
  },
  {
   "cell_type": "code",
   "execution_count": null,
   "metadata": {
    "collapsed": true
   },
   "outputs": [],
   "source": []
  }
 ],
 "metadata": {
  "kernelspec": {
   "display_name": "Python 3",
   "language": "python",
   "name": "python3"
  },
  "language_info": {
   "codemirror_mode": {
    "name": "ipython",
    "version": 3
   },
   "file_extension": ".py",
   "mimetype": "text/x-python",
   "name": "python",
   "nbconvert_exporter": "python",
   "pygments_lexer": "ipython3",
   "version": "3.6.3"
  }
 },
 "nbformat": 4,
 "nbformat_minor": 2
}
